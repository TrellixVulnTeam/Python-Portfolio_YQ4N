{
 "cells": [
  {
   "cell_type": "code",
   "execution_count": 1,
   "metadata": {},
   "outputs": [
    {
     "name": "stdout",
     "output_type": "stream",
     "text": [
      "Collecting pandas_datareader\n",
      "  Downloading pandas_datareader-0.10.0-py3-none-any.whl (109 kB)\n",
      "\u001b[K     |████████████████████████████████| 109 kB 9.5 MB/s eta 0:00:01\n",
      "\u001b[?25hRequirement already satisfied: lxml in /Users/run/opt/anaconda3/lib/python3.8/site-packages (from pandas_datareader) (4.6.1)\n",
      "Requirement already satisfied: requests>=2.19.0 in /Users/run/opt/anaconda3/lib/python3.8/site-packages (from pandas_datareader) (2.24.0)\n",
      "Requirement already satisfied: pandas>=0.23 in /Users/run/opt/anaconda3/lib/python3.8/site-packages (from pandas_datareader) (1.1.3)\n",
      "Requirement already satisfied: urllib3!=1.25.0,!=1.25.1,<1.26,>=1.21.1 in /Users/run/opt/anaconda3/lib/python3.8/site-packages (from requests>=2.19.0->pandas_datareader) (1.25.11)\n",
      "Requirement already satisfied: certifi>=2017.4.17 in /Users/run/opt/anaconda3/lib/python3.8/site-packages (from requests>=2.19.0->pandas_datareader) (2020.6.20)\n",
      "Requirement already satisfied: idna<3,>=2.5 in /Users/run/opt/anaconda3/lib/python3.8/site-packages (from requests>=2.19.0->pandas_datareader) (2.10)\n",
      "Requirement already satisfied: chardet<4,>=3.0.2 in /Users/run/opt/anaconda3/lib/python3.8/site-packages (from requests>=2.19.0->pandas_datareader) (3.0.4)\n",
      "Requirement already satisfied: pytz>=2017.2 in /Users/run/opt/anaconda3/lib/python3.8/site-packages (from pandas>=0.23->pandas_datareader) (2020.1)\n",
      "Requirement already satisfied: numpy>=1.15.4 in /Users/run/opt/anaconda3/lib/python3.8/site-packages (from pandas>=0.23->pandas_datareader) (1.19.2)\n",
      "Requirement already satisfied: python-dateutil>=2.7.3 in /Users/run/opt/anaconda3/lib/python3.8/site-packages (from pandas>=0.23->pandas_datareader) (2.8.1)\n",
      "Requirement already satisfied: six>=1.5 in /Users/run/opt/anaconda3/lib/python3.8/site-packages (from python-dateutil>=2.7.3->pandas>=0.23->pandas_datareader) (1.15.0)\n",
      "Installing collected packages: pandas-datareader\n",
      "Successfully installed pandas-datareader-0.10.0\n"
     ]
    }
   ],
   "source": [
    "# 日経平均やNASDAQなどのデータを取得\n",
    "# !pip install pandas_datareader"
   ]
  },
  {
   "cell_type": "code",
   "execution_count": null,
   "metadata": {},
   "outputs": [],
   "source": [
    "from pandas_datareader import data\n",
    "# データ改正を支援する機能を提供 pandas 1列Series 2列DataFrame\n",
    "import pnadas as pd\n",
    "# グラフを書くためのライブラリ\n",
    "import matplotlib.pyplot as plt\n",
    "import numpy as np\n"
   ]
  }
 ],
 "metadata": {
  "kernelspec": {
   "display_name": "Python 3",
   "language": "python",
   "name": "python3"
  },
  "language_info": {
   "codemirror_mode": {
    "name": "ipython",
    "version": 3
   },
   "file_extension": ".py",
   "mimetype": "text/x-python",
   "name": "python",
   "nbconvert_exporter": "python",
   "pygments_lexer": "ipython3",
   "version": "3.8.5"
  }
 },
 "nbformat": 4,
 "nbformat_minor": 4
}
